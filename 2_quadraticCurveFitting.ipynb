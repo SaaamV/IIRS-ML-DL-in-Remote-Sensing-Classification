{
 "cells": [
  {
   "cell_type": "code",
   "execution_count": 2,
   "metadata": {},
   "outputs": [],
   "source": [
    "import numpy as np"
   ]
  },
  {
   "cell_type": "code",
   "execution_count": 1,
   "metadata": {},
   "outputs": [],
   "source": [
    "# Example 2:\n",
    "# Fit a quadratic curve for data (0.1,-0.18),(0.2,0.31),(0.3,1.03),(0.4,2.48),(0.5,3.73)"
   ]
  },
  {
   "cell_type": "code",
   "execution_count": 4,
   "metadata": {},
   "outputs": [
    {
     "name": "stdout",
     "output_type": "stream",
     "text": [
      "x= [[0.1]\n",
      " [0.2]\n",
      " [0.3]\n",
      " [0.4]\n",
      " [0.5]]\n",
      "y= [[-0.18]\n",
      " [ 0.31]\n",
      " [ 1.03]\n",
      " [ 2.48]\n",
      " [ 3.73]]\n"
     ]
    }
   ],
   "source": [
    "x=np.matrix([[0.1],[0.2],[0.3],[0.4],[0.5]])\n",
    "y=np.matrix([[-0.18],[0.31],[1.03],[2.48],[3.73]])\n",
    "print('x=',x)\n",
    "print('y=',y)"
   ]
  },
  {
   "cell_type": "code",
   "execution_count": 12,
   "metadata": {},
   "outputs": [
    {
     "name": "stdout",
     "output_type": "stream",
     "text": [
      "[[1.   0.1  0.01]\n",
      " [1.   0.2  0.04]\n",
      " [1.   0.3  0.09]\n",
      " [1.   0.4  0.16]\n",
      " [1.   0.5  0.25]]\n"
     ]
    }
   ],
   "source": [
    "M=np.matrix(np.ones((5,3)))\n",
    "M[:,1]=x\n",
    "M[:,2]=np.multiply(x,x)\n",
    "print(M)"
   ]
  },
  {
   "cell_type": "code",
   "execution_count": 13,
   "metadata": {},
   "outputs": [
    {
     "name": "stdout",
     "output_type": "stream",
     "text": [
      "[[-0.398     ]\n",
      " [ 0.34714286]\n",
      " [16.07142857]]\n"
     ]
    }
   ],
   "source": [
    "v=(M.T*M).I*M.T*y\n",
    "print(v)"
   ]
  },
  {
   "cell_type": "code",
   "execution_count": 14,
   "metadata": {},
   "outputs": [],
   "source": [
    "import pylab as pl"
   ]
  },
  {
   "cell_type": "code",
   "execution_count": 19,
   "metadata": {},
   "outputs": [
    {
     "data": {
      "text/plain": [
       "[<matplotlib.lines.Line2D at 0x21400e54220>]"
      ]
     },
     "execution_count": 19,
     "metadata": {},
     "output_type": "execute_result"
    },
    {
     "data": {
      "image/png": "[encoded data removed]",
      "text/plain": [
       "<Figure size 432x288 with 1 Axes>"
      ]
     },
     "metadata": {
      "needs_background": "light"
     },
     "output_type": "display_data"
    }
   ],
   "source": [
    "pl.plot(x,y,'ro')\n",
    "\n",
    "x_curve=np.arange(0,0.52,0.01)\n",
    "y_curve=float(v[0])+float(v[1])*x_curve+float(v[2])*np.multiply(x_curve,x_curve)\n",
    "\n",
    "pl.plot(x_curve,y_curve,'b-')"
   ]
  }
 ],
 "metadata": {
  "kernelspec": {
   "display_name": "Python 3.10.0 64-bit",
   "language": "python",
   "name": "python3"
  },
  "language_info": {
   "codemirror_mode": {
    "name": "ipython",
    "version": 3
   },
   "file_extension": ".py",
   "mimetype": "text/x-python",
   "name": "python",
   "nbconvert_exporter": "python",
   "pygments_lexer": "ipython3",
   "version": "3.10.0"
  },
  "orig_nbformat": 4,
  "vscode": {
   "interpreter": {
    "hash": "8ced63a38be7f5cf9e19136ed5aad6b739b5eb8f42598740e8cb4a1fb8dc7eff"
   }
  }
 },
 "nbformat": 4,
 "nbformat_minor": 2
}
